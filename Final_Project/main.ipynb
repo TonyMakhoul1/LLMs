{
 "cells": [
  {
   "cell_type": "code",
   "execution_count": 1,
   "id": "0e346579",
   "metadata": {},
   "outputs": [],
   "source": [
    "import os \n",
    "import numpy as np\n",
    "from langchain_community.embeddings import HuggingFaceBgeEmbeddings, OpenAIEmbeddings\n",
    "from langchain_community.llms import HuggingFacePipeline\n",
    "from langchain_community.document_loaders import PyPDFLoader\n",
    "from langchain_community.document_loaders import PyPDFDirectoryLoader\n",
    "from langchain.text_splitter import RecursiveCharacterTextSplitter\n",
    "from langchain_community.vectorstores import FAISS\n",
    "from langchain.chains import RetrievalQA\n",
    "from langchain.prompts import PromptTemplate"
   ]
  },
  {
   "cell_type": "code",
   "execution_count": 2,
   "id": "3c0bcb17",
   "metadata": {},
   "outputs": [],
   "source": [
    "from urllib.request import urlretrieve, build_opener, install_opener"
   ]
  },
  {
   "cell_type": "code",
   "execution_count": 3,
   "id": "07b4f53b",
   "metadata": {},
   "outputs": [],
   "source": [
    "opener = build_opener()\n",
    "opener.addheaders = [(\"User-Agent\", \"Mozilla/5.0\")]\n",
    "install_opener(opener)"
   ]
  },
  {
   "cell_type": "code",
   "execution_count": 4,
   "id": "651b8fdf",
   "metadata": {},
   "outputs": [],
   "source": [
    "url = \"http://assets.fiba.basketball/image/upload/documents-corporate-fiba-official-rules-2024-v10a.pdf\"\n",
    "os.makedirs(\"FIBA\", exist_ok=True)"
   ]
  },
  {
   "cell_type": "code",
   "execution_count": 5,
   "id": "6efad63e",
   "metadata": {},
   "outputs": [],
   "source": [
    "file_path = os.path.join(\"FIBA\", url.rpartition(\"/\")[2])"
   ]
  },
  {
   "cell_type": "code",
   "execution_count": 6,
   "id": "30aba4c4",
   "metadata": {},
   "outputs": [
    {
     "data": {
      "text/plain": [
       "'FIBA\\\\documents-corporate-fiba-official-rules-2024-v10a.pdf'"
      ]
     },
     "execution_count": 6,
     "metadata": {},
     "output_type": "execute_result"
    }
   ],
   "source": [
    "file_path"
   ]
  },
  {
   "cell_type": "code",
   "execution_count": 7,
   "id": "6ca82259",
   "metadata": {},
   "outputs": [
    {
     "data": {
      "text/plain": [
       "('FIBA\\\\documents-corporate-fiba-official-rules-2024-v10a.pdf',\n",
       " <http.client.HTTPMessage at 0x2558e438620>)"
      ]
     },
     "execution_count": 7,
     "metadata": {},
     "output_type": "execute_result"
    }
   ],
   "source": [
    "urlretrieve(url, file_path)"
   ]
  },
  {
   "cell_type": "code",
   "execution_count": 8,
   "id": "e960ea6b",
   "metadata": {},
   "outputs": [],
   "source": [
    "loader = PyPDFLoader(r\"C:\\Users\\tmakh\\OneDrive\\Desktop\\AI_Lara_Wehbe\\python\\LLMs\\Final_Project\\FIBA\\documents-corporate-fiba-official-rules-2024-v10a.pdf\")\n",
    "doc_before_split = loader.load()"
   ]
  },
  {
   "cell_type": "code",
   "execution_count": 9,
   "id": "4f186173",
   "metadata": {},
   "outputs": [
    {
     "name": "stdout",
     "output_type": "stream",
     "text": [
      "October 2024 OFFICIAL BASKETBALL RULES 2024 Page 11 of 105 \n",
      "Article 3 Equipment The following equipment shall be required: • Backstop units, consisting of: ▬ Backboards ▬ Baskets comprising (pressure release) rings and nets ▬ Backboard support structures including padding. • Basketballs • Game clock • Scoreboard • Shot clock • Stopwatch or suitable (visible) device (not the game clock) for timing time-outs • 2 separate, distinctly different and loud signals, one of each for the ▬ shot clock operator, ▬ timer. • Scoresheet • Player / head coach foul markers • Team foul markers • Alternating possession arrow • Floor • Court • Adequate lighting. For a more detailed description of basketball equipment, see the Appendix on Basket-ball Equipment.\n"
     ]
    }
   ],
   "source": [
    "print(doc_before_split[10].page_content)                    "
   ]
  },
  {
   "cell_type": "code",
   "execution_count": 10,
   "id": "ed1f2c61",
   "metadata": {},
   "outputs": [],
   "source": [
    "text_splitter = RecursiveCharacterTextSplitter(\n",
    "    chunk_size = 600,\n",
    "    chunk_overlap = 60\n",
    ")"
   ]
  },
  {
   "cell_type": "code",
   "execution_count": 11,
   "id": "6907ef02",
   "metadata": {},
   "outputs": [],
   "source": [
    "doc_after_split = text_splitter.split_documents(doc_before_split)"
   ]
  },
  {
   "cell_type": "code",
   "execution_count": 12,
   "id": "fadba1da",
   "metadata": {},
   "outputs": [
    {
     "data": {
      "text/plain": [
       "'not on the court but entitled to play. • An excluded player when having committed 5 fouls and is no longer entitled to play.  4.1.4 During any interval of play, all team members entitled to play are considered as players. 4.2 Rule 4.2.1 Each team shall consist of: • No more than 12 team members entitled to play, including a captain. • A head coach. • A maximum of 8 accompanying delegation members, including assistant coaches who may sit on the team bench. In case a team has assistant coaches, the first assistant coach shall be entered on the scoresheet. 4.2.2 During playing time 5 team'"
      ]
     },
     "execution_count": 12,
     "metadata": {},
     "output_type": "execute_result"
    }
   ],
   "source": [
    "doc_after_split[50].page_content"
   ]
  },
  {
   "cell_type": "code",
   "execution_count": 13,
   "id": "fd9f06fa",
   "metadata": {},
   "outputs": [
    {
     "name": "stderr",
     "output_type": "stream",
     "text": [
      "C:\\Users\\tmakh\\AppData\\Local\\Temp\\ipykernel_16296\\3179441968.py:1: LangChainDeprecationWarning: The class `HuggingFaceBgeEmbeddings` was deprecated in LangChain 0.2.2 and will be removed in 1.0. An updated version of the class exists in the :class:`~langchain-huggingface package and should be used instead. To use it run `pip install -U :class:`~langchain-huggingface` and import as `from :class:`~langchain_huggingface import HuggingFaceEmbeddings``.\n",
      "  hugging_face_embeddings = HuggingFaceBgeEmbeddings(\n"
     ]
    },
    {
     "name": "stdout",
     "output_type": "stream",
     "text": [
      "WARNING:tensorflow:From c:\\Users\\tmakh\\OneDrive\\Desktop\\AI_Lara_Wehbe\\python\\testenv\\Lib\\site-packages\\tf_keras\\src\\losses.py:2976: The name tf.losses.sparse_softmax_cross_entropy is deprecated. Please use tf.compat.v1.losses.sparse_softmax_cross_entropy instead.\n",
      "\n"
     ]
    }
   ],
   "source": [
    "hugging_face_embeddings = HuggingFaceBgeEmbeddings(\n",
    "    model_name='sentence-transformers/all-MiniLM-L6-v2',\n",
    "    model_kwargs = {\"device\": \"cpu\"},\n",
    "    encode_kwargs = {\"normalize_embeddings\" : True}\n",
    ")"
   ]
  },
  {
   "cell_type": "code",
   "execution_count": 14,
   "id": "8ff36d7b",
   "metadata": {},
   "outputs": [],
   "source": [
    "from langchain_community.vectorstores import Chroma\n",
    "\n",
    "vectorestore = Chroma.from_documents(doc_after_split, hugging_face_embeddings)"
   ]
  },
  {
   "cell_type": "code",
   "execution_count": 15,
   "id": "8df515ed",
   "metadata": {},
   "outputs": [],
   "source": [
    "query = \"What are the rules of dribling\""
   ]
  },
  {
   "cell_type": "code",
   "execution_count": 16,
   "id": "c7ae4770",
   "metadata": {},
   "outputs": [],
   "source": [
    "relevant_documents = vectorestore.similarity_search(query)"
   ]
  },
  {
   "cell_type": "code",
   "execution_count": 17,
   "id": "00dcae00",
   "metadata": {},
   "outputs": [
    {
     "name": "stdout",
     "output_type": "stream",
     "text": [
      "Article 24 Dribbling 24.1 Definition 24.1.1 A dribble is the movement of a live ball caused by a player in control of that ball who throws, taps, rolls or bounces the ball on the court.  24.1.2 A dribble starts when a player, having gained control of a live ball on the court throws, taps, rolls or bounces it on the court and touches it again before it touches another player. During a dribble the player may not place any part of the hand under the ball and carry it from one point to another or bring the ball to a pause and then continue to dribble. During a dribble the ball may be thrown into\n"
     ]
    }
   ],
   "source": [
    "print(relevant_documents[1].page_content)"
   ]
  },
  {
   "cell_type": "code",
   "execution_count": 18,
   "id": "9859ea05",
   "metadata": {},
   "outputs": [],
   "source": [
    "retriever = vectorestore.as_retriever(\n",
    "    search_type= \"similarity\",\n",
    "    search_kwargs = {\"k\": 3}\n",
    ")"
   ]
  },
  {
   "cell_type": "code",
   "execution_count": 19,
   "id": "a66430cb",
   "metadata": {},
   "outputs": [],
   "source": [
    "from dotenv import load_dotenv\n",
    "\n",
    "load_dotenv()\n",
    "api_key = os.getenv(\"GROQ_API_KEY\")\n"
   ]
  },
  {
   "cell_type": "code",
   "execution_count": 20,
   "id": "4b8cdd96",
   "metadata": {},
   "outputs": [],
   "source": [
    "from langchain_groq import ChatGroq\n",
    "\n",
    "llm = ChatGroq(\n",
    "    model=\"llama-3.1-8b-instant\",\n",
    "    temperature=0.1,\n",
    "    max_tokens=500,\n",
    "    api_key=api_key\n",
    ")"
   ]
  },
  {
   "cell_type": "code",
   "execution_count": 21,
   "id": "ef463010",
   "metadata": {},
   "outputs": [
    {
     "name": "stdout",
     "output_type": "stream",
     "text": [
      "content=\"Dribbling is a fundamental skill in basketball, soccer, and other sports that involves controlling a ball with one's hands or feet. Here are the basic rules and techniques for dribbling:\\n\\n**General Rules:**\\n\\n1. **Control the ball**: The primary goal of dribbling is to maintain control of the ball while moving it in different directions.\\n2. **Use the correct body position**: Keep your head up, shoulders relaxed, and knees slightly bent to maintain balance and stability.\\n3. **Keep the ball close**: Keep the ball close to your body to maintain control and prevent it from being stolen.\\n4. **Use different parts of the body**: Use different parts of your body, such as your hands, feet, or head, to control the ball.\\n5. **Dribble with both hands**: In basketball, dribbling with both hands is essential to maintain control and create scoring opportunities.\\n\\n**Soccer Dribbling Rules:**\\n\\n1. **Use the inside, outside, and sole of the foot**: In soccer, dribblers use the inside, outside, and sole of their foot to control the ball.\\n2. **Keep the ball low**: Keep the ball close to the ground to maintain control and prevent it from being intercepted.\\n3. **Use different parts of the foot**: Use different parts of the foot, such as the inside, outside, and sole, to control the ball.\\n4. **Dribble with the laces**: In soccer, dribblers often use the laces (the middle part of the foot) to control the ball.\\n\\n**Basketball Dribbling Rules:**\\n\\n1. **Use the fingertips**: In basketball, dribblers use their fingertips to control the ball.\\n2. **Keep the ball low**: Keep the ball close to the ground to maintain control and prevent it from being intercepted.\\n3. **Use different parts of the hand**: Use different parts of the hand, such as the fingertips, palms, and wrists, to control the ball.\\n4. **Dribble with both hands**: In basketball, dribbling with both hands is essential to maintain control and create scoring opportunities.\\n\\n**Techniques:**\\n\\n1. **Stationary dribbling**: Dribble the ball while standing still to develop control and coordination.\\n2. **Moving dribbling**: Dribble the ball while moving in different directions to develop speed and agility.\\n3. **Crossovers**: Switch the ball from one hand to the other while drib\" additional_kwargs={} response_metadata={'token_usage': {'completion_tokens': 500, 'prompt_tokens': 42, 'total_tokens': 542, 'completion_time': 0.595856542, 'prompt_time': 0.001884035, 'queue_time': 0.005703412, 'total_time': 0.597740577}, 'model_name': 'llama-3.1-8b-instant', 'system_fingerprint': 'fp_33e8adf159', 'service_tier': 'on_demand', 'finish_reason': 'length', 'logprobs': None} id='run--cca78fca-3bed-498a-a31b-0cb40330c502-0' usage_metadata={'input_tokens': 42, 'output_tokens': 500, 'total_tokens': 542}\n"
     ]
    }
   ],
   "source": [
    "output = llm.invoke(query)\n",
    "print(output)"
   ]
  },
  {
   "cell_type": "code",
   "execution_count": null,
   "id": "ad7f51e4",
   "metadata": {},
   "outputs": [],
   "source": [
    "prompt_template = \"\"\"Use the following pieces of context to answer the question at the end. Please follow the following rules:\n",
    "1. If you don't know the answer, don't try to make up an answer. Just say \"I can't find the answer in the documents. \"\n",
    "2. If you find the answer, write the answer in a concise way with five sentences maximum.\n",
    "\n",
    "{context}\n",
    "\n",
    "Question: {question}\n",
    "\n",
    "Helpful Answer:\n",
    "\"\"\"\n",
    "\n",
    "PROMPT = PromptTemplate(\n",
    " template=prompt_template, input_variables=[\"context\", \"question\"]\n",
    ")\n"
   ]
  },
  {
   "cell_type": "code",
   "execution_count": 23,
   "id": "a3016a8d",
   "metadata": {},
   "outputs": [],
   "source": [
    "retrievalQA = RetrievalQA.from_chain_type(\n",
    "    llm = llm,\n",
    "    chain_type=\"stuff\",\n",
    "    retriever=retriever,\n",
    "    return_source_documents=True,\n",
    "    chain_type_kwargs={\"prompt\": PROMPT}\n",
    ")"
   ]
  },
  {
   "cell_type": "code",
   "execution_count": 24,
   "id": "0358a5dc",
   "metadata": {},
   "outputs": [
    {
     "name": "stdout",
     "output_type": "stream",
     "text": [
      "{'query': 'What are the rules of dribling', 'result': 'According to Article 24 of the rules, a dribble is defined as the movement of a live ball caused by a player in control of that ball who throws, taps, rolls, or bounces the ball on the court. A dribble starts when a player gains control of a live ball and touches it again before it touches another player. During a dribble, the player may not place any part of the hand under the ball and carry it from one point to another or bring the ball to a pause and then continue to dribble. A dribble ends when the player touches the ball with both hands simultaneously or permits the ball to come to rest in one or both hands.', 'source_documents': [Document(metadata={'creator': 'Word', 'moddate': '2024-10-02T16:21:04+03:00', 'creationdate': '2024-10-02T13:18:52+00:00', 'producer': 'macOS Version 14.6.1 (Build 23G93) Quartz PDFContext', 'page': 29, 'source': 'C:\\\\Users\\\\tmakh\\\\OneDrive\\\\Desktop\\\\AI_Lara_Wehbe\\\\python\\\\LLMs\\\\Final_Project\\\\FIBA\\\\documents-corporate-fiba-official-rules-2024-v10a.pdf', 'total_pages': 105, 'page_label': '30'}, page_content='• Deflecting a pass and gaining control of the ball. • Tossing the ball from hand to hand and allowing it to come to rest in one or both hands before touching the court, provided that no travelling violation is committed. • Throwing the ball against the backboard and regaining the control of the ball. 24.2 Rule A player shall not dribble for a second time after the first dribble has ended unless between the 2 dribbles: • The control of a live ball on the court is lost because of a shot for a goal. • The ball is touched by an opponent. • On a pass or fumble the ball touches or is touched by'), Document(metadata={'producer': 'macOS Version 14.6.1 (Build 23G93) Quartz PDFContext', 'page_label': '29', 'creator': 'Word', 'page': 28, 'creationdate': '2024-10-02T13:18:52+00:00', 'moddate': '2024-10-02T16:21:04+03:00', 'source': 'C:\\\\Users\\\\tmakh\\\\OneDrive\\\\Desktop\\\\AI_Lara_Wehbe\\\\python\\\\LLMs\\\\Final_Project\\\\FIBA\\\\documents-corporate-fiba-official-rules-2024-v10a.pdf', 'total_pages': 105}, page_content='Article 24 Dribbling 24.1 Definition 24.1.1 A dribble is the movement of a live ball caused by a player in control of that ball who throws, taps, rolls or bounces the ball on the court.  24.1.2 A dribble starts when a player, having gained control of a live ball on the court throws, taps, rolls or bounces it on the court and touches it again before it touches another player. During a dribble the player may not place any part of the hand under the ball and carry it from one point to another or bring the ball to a pause and then continue to dribble. During a dribble the ball may be thrown into'), Document(metadata={'producer': 'macOS Version 14.6.1 (Build 23G93) Quartz PDFContext', 'page': 29, 'creationdate': '2024-10-02T13:18:52+00:00', 'source': 'C:\\\\Users\\\\tmakh\\\\OneDrive\\\\Desktop\\\\AI_Lara_Wehbe\\\\python\\\\LLMs\\\\Final_Project\\\\FIBA\\\\documents-corporate-fiba-official-rules-2024-v10a.pdf', 'moddate': '2024-10-02T16:21:04+03:00', 'page_label': '30', 'total_pages': 105, 'creator': 'Word'}, page_content='A dribble ends when the player touches the ball with both hands simultaneously or permits the ball to come to rest in one or both hands. 24.1.3 A player who accidentally loses and then regains control of a live ball on the court is considered to have fumbled the ball.  24.1.4 The following are not dribbles: • Successive shots for a goal. • Fumbling the ball at the start or at the end of a dribble. • Attempts to gain control of the ball by tapping it from the vicinity of other players. • Tapping the ball from the control of another player. • Deflecting a pass and gaining control of the ball. •')]}\n"
     ]
    }
   ],
   "source": [
    "result = retrievalQA.invoke({\"query\" : query})\n",
    "print(result)"
   ]
  },
  {
   "cell_type": "code",
   "execution_count": 25,
   "id": "a39be6a2",
   "metadata": {},
   "outputs": [
    {
     "name": "stdout",
     "output_type": "stream",
     "text": [
      "dict_keys(['query', 'result', 'source_documents'])\n"
     ]
    }
   ],
   "source": [
    "print(result.keys())"
   ]
  },
  {
   "cell_type": "code",
   "execution_count": 26,
   "id": "e294b434",
   "metadata": {},
   "outputs": [
    {
     "name": "stdout",
     "output_type": "stream",
     "text": [
      "There are 3 documents retrieved which are relevant to the query.\n",
      "****************************************************************************************************\n",
      "Relevant Document #1:\n",
      "Source file: C:\\Users\\tmakh\\OneDrive\\Desktop\\AI_Lara_Wehbe\\python\\LLMs\\Final_Project\\FIBA\\documents-corporate-fiba-official-rules-2024-v10a.pdf, Page: 29\n",
      "Content: • Deflecting a pass and gaining control of the ball. • Tossing the ball from hand to hand and allowing it to come to rest in one or both hands before touching the court, provided that no travelling violation is committed. • Throwing the ball against the backboard and regaining the control of the ball. 24.2 Rule A player shall not dribble for a second time after the first dribble has ended unless between the 2 dribbles: • The control of a live ball on the court is lost because of a shot for a goal. • The ball is touched by an opponent. • On a pass or fumble the ball touches or is touched by\n",
      "----------------------------------------------------------------------------------------------------\n",
      "There are 3 documents retrieved which are relevant to the query.\n",
      "Relevant Document #2:\n",
      "Source file: C:\\Users\\tmakh\\OneDrive\\Desktop\\AI_Lara_Wehbe\\python\\LLMs\\Final_Project\\FIBA\\documents-corporate-fiba-official-rules-2024-v10a.pdf, Page: 28\n",
      "Content: Article 24 Dribbling 24.1 Definition 24.1.1 A dribble is the movement of a live ball caused by a player in control of that ball who throws, taps, rolls or bounces the ball on the court.  24.1.2 A dribble starts when a player, having gained control of a live ball on the court throws, taps, rolls or bounces it on the court and touches it again before it touches another player. During a dribble the player may not place any part of the hand under the ball and carry it from one point to another or bring the ball to a pause and then continue to dribble. During a dribble the ball may be thrown into\n",
      "----------------------------------------------------------------------------------------------------\n",
      "There are 3 documents retrieved which are relevant to the query.\n",
      "Relevant Document #3:\n",
      "Source file: C:\\Users\\tmakh\\OneDrive\\Desktop\\AI_Lara_Wehbe\\python\\LLMs\\Final_Project\\FIBA\\documents-corporate-fiba-official-rules-2024-v10a.pdf, Page: 29\n",
      "Content: A dribble ends when the player touches the ball with both hands simultaneously or permits the ball to come to rest in one or both hands. 24.1.3 A player who accidentally loses and then regains control of a live ball on the court is considered to have fumbled the ball.  24.1.4 The following are not dribbles: • Successive shots for a goal. • Fumbling the ball at the start or at the end of a dribble. • Attempts to gain control of the ball by tapping it from the vicinity of other players. • Tapping the ball from the control of another player. • Deflecting a pass and gaining control of the ball. •\n",
      "----------------------------------------------------------------------------------------------------\n",
      "There are 3 documents retrieved which are relevant to the query.\n"
     ]
    }
   ],
   "source": [
    "relevant_docs = result['source_documents']\n",
    "print(f'There are {len(relevant_docs)} documents retrieved which are relevant to the query.')\n",
    "print(\"*\" * 100)\n",
    "for i, doc in enumerate(relevant_docs):\n",
    "    print(f\"Relevant Document #{i+1}:\\nSource file: {doc.metadata['source']}, Page: {doc.metadata['page']}\\nContent: {doc.page_content}\")\n",
    "    print(\"-\"*100)\n",
    "    print(f'There are {len(relevant_docs)} documents retrieved which are relevant to the query.')"
   ]
  },
  {
   "cell_type": "code",
   "execution_count": 27,
   "id": "7136721d",
   "metadata": {},
   "outputs": [],
   "source": [
    "def answer_question(history, query):\n",
    "    result = retrievalQA.invoke({\"query\":query})\n",
    "    answer = result[\"result\"]\n",
    "    sources = \"\"\n",
    "    for i, doc in enumerate(result['source_documents']):\n",
    "        sources += f\"Document #{i+1}:\\nSource: {doc.metadata['source']}, Page: {doc.metadata['page']}\\n{doc.page_content}\\n\\n\"\n",
    "    history.append((query, answer))\n",
    "    return history, \"\"\n",
    "\n",
    "def clear_chat():\n",
    "    return [], \"\""
   ]
  },
  {
   "cell_type": "code",
   "execution_count": 28,
   "id": "d70b5369",
   "metadata": {},
   "outputs": [],
   "source": [
    "import gradio as gr\n",
    "def gradio_app():\n",
    "    with gr.Blocks() as app:\n",
    "        gr.Markdown(\"# 🏀 FIBA rules\")\n",
    "        gr.Markdown(\"Ask a question about FIBA rules\")\n",
    "        chatbot = gr.Chatbot(label=\"Chat Interference\")\n",
    "        user_input = gr.Textbox(label=\"Your message\",\n",
    "                                placeholder=\"Ask your question...\")\n",
    "        send_button = gr.Button(\"Send\")\n",
    "        clear_button = gr.Button(\"Clear\")\n",
    "\n",
    "        send_button.click(\n",
    "            fn=answer_question,\n",
    "            inputs=[chatbot, user_input],\n",
    "            outputs=[chatbot, user_input]\n",
    "        )\n",
    "        clear_button.click(\n",
    "            fn=clear_chat,\n",
    "            inputs=[],\n",
    "            outputs=[chatbot, user_input]\n",
    "        )\n",
    "    return app"
   ]
  },
  {
   "cell_type": "code",
   "execution_count": 29,
   "id": "ee4c6e3a",
   "metadata": {},
   "outputs": [
    {
     "name": "stderr",
     "output_type": "stream",
     "text": [
      "C:\\Users\\tmakh\\AppData\\Local\\Temp\\ipykernel_16296\\243338029.py:6: UserWarning: You have not specified a value for the `type` parameter. Defaulting to the 'tuples' format for chatbot messages, but this is deprecated and will be removed in a future version of Gradio. Please set type='messages' instead, which uses openai-style dictionaries with 'role' and 'content' keys.\n",
      "  chatbot = gr.Chatbot(label=\"Chat Interference\")\n"
     ]
    },
    {
     "name": "stdout",
     "output_type": "stream",
     "text": [
      "* Running on local URL:  http://127.0.0.1:7860\n",
      "* To create a public link, set `share=True` in `launch()`.\n"
     ]
    },
    {
     "data": {
      "text/html": [
       "<div><iframe src=\"http://127.0.0.1:7860/\" width=\"100%\" height=\"500\" allow=\"autoplay; camera; microphone; clipboard-read; clipboard-write;\" frameborder=\"0\" allowfullscreen></iframe></div>"
      ],
      "text/plain": [
       "<IPython.core.display.HTML object>"
      ]
     },
     "metadata": {},
     "output_type": "display_data"
    },
    {
     "data": {
      "text/plain": []
     },
     "execution_count": 29,
     "metadata": {},
     "output_type": "execute_result"
    }
   ],
   "source": [
    "app = gradio_app()\n",
    "app.launch()"
   ]
  },
  {
   "cell_type": "code",
   "execution_count": null,
   "id": "c3821036",
   "metadata": {},
   "outputs": [],
   "source": []
  },
  {
   "cell_type": "code",
   "execution_count": null,
   "id": "a81b4a7c",
   "metadata": {},
   "outputs": [],
   "source": []
  },
  {
   "cell_type": "code",
   "execution_count": null,
   "id": "d4a117c7",
   "metadata": {},
   "outputs": [],
   "source": []
  },
  {
   "cell_type": "code",
   "execution_count": null,
   "id": "2b964534",
   "metadata": {},
   "outputs": [],
   "source": []
  }
 ],
 "metadata": {
  "kernelspec": {
   "display_name": "testenv (3.12.6)",
   "language": "python",
   "name": "python3"
  },
  "language_info": {
   "codemirror_mode": {
    "name": "ipython",
    "version": 3
   },
   "file_extension": ".py",
   "mimetype": "text/x-python",
   "name": "python",
   "nbconvert_exporter": "python",
   "pygments_lexer": "ipython3",
   "version": "3.12.6"
  }
 },
 "nbformat": 4,
 "nbformat_minor": 5
}
